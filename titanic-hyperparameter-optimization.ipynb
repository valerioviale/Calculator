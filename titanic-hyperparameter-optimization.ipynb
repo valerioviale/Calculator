{
 "cells": [
  {
   "cell_type": "code",
   "execution_count": 1,
   "id": "93ff5b39",
   "metadata": {
    "_cell_guid": "b1076dfc-b9ad-4769-8c92-a6c4dae69d19",
    "_uuid": "8f2839f25d086af736a60e9eeb907d3b93b6e0e5",
    "execution": {
     "iopub.execute_input": "2023-10-25T10:15:08.801019Z",
     "iopub.status.busy": "2023-10-25T10:15:08.800654Z",
     "iopub.status.idle": "2023-10-25T10:15:09.175893Z",
     "shell.execute_reply": "2023-10-25T10:15:09.174803Z"
    },
    "papermill": {
     "duration": 0.383457,
     "end_time": "2023-10-25T10:15:09.179602",
     "exception": false,
     "start_time": "2023-10-25T10:15:08.796145",
     "status": "completed"
    },
    "tags": []
   },
   "outputs": [
    {
     "name": "stdout",
     "output_type": "stream",
     "text": [
      "/kaggle/input/titanic/train.csv\n",
      "/kaggle/input/titanic/test.csv\n",
      "/kaggle/input/titanic/gender_submission.csv\n"
     ]
    }
   ],
   "source": [
    "# This Python 3 environment comes with many helpful analytics libraries installed\n",
    "# It is defined by the kaggle/python Docker image: https://github.com/kaggle/docker-python\n",
    "# For example, here's several helpful packages to load\n",
    "\n",
    "import numpy as np # linear algebra\n",
    "import pandas as pd # data processing, CSV file I/O (e.g. pd.read_csv)\n",
    "\n",
    "# Input data files are available in the read-only \"../input/\" directory\n",
    "# For example, running this (by clicking run or pressing Shift+Enter) will list all files under the input directory\n",
    "\n",
    "import os\n",
    "for dirname, _, filenames in os.walk('/kaggle/input'):\n",
    "    for filename in filenames:\n",
    "        print(os.path.join(dirname, filename))\n",
    "\n",
    "# You can write up to 20GB to the current directory (/kaggle/working/) that gets preserved as output when you create a version using \"Save & Run All\" \n",
    "# You can also write temporary files to /kaggle/temp/, but they won't be saved outside of the current session"
   ]
  },
  {
   "cell_type": "code",
   "execution_count": 2,
   "id": "786b4718",
   "metadata": {
    "execution": {
     "iopub.execute_input": "2023-10-25T10:15:09.187577Z",
     "iopub.status.busy": "2023-10-25T10:15:09.187099Z",
     "iopub.status.idle": "2023-10-25T10:16:45.350497Z",
     "shell.execute_reply": "2023-10-25T10:16:45.349385Z"
    },
    "papermill": {
     "duration": 96.169506,
     "end_time": "2023-10-25T10:16:45.353119",
     "exception": false,
     "start_time": "2023-10-25T10:15:09.183613",
     "status": "completed"
    },
    "tags": []
   },
   "outputs": [
    {
     "name": "stdout",
     "output_type": "stream",
     "text": [
      "Best Hyperparameters: {'max_depth': 3, 'min_samples_leaf': 1, 'min_samples_split': 2, 'n_estimators': 100}\n",
      "Validation Set Accuracy: 0.7821229050279329\n",
      "Your submission was successfully saved!\n"
     ]
    }
   ],
   "source": [
    "# Import necessary libraries for data analysis and visualization.\n",
    "import matplotlib.pyplot as plt\n",
    "import seaborn as sns\n",
    "from sklearn.ensemble import RandomForestClassifier\n",
    "from sklearn.model_selection import train_test_split, GridSearchCV\n",
    "\n",
    "# Load the Titanic dataset.\n",
    "titanic_data = pd.read_csv('/kaggle/input/titanic/train.csv')\n",
    "\n",
    "# Select relevant features and target variable.\n",
    "features = [\"Pclass\", \"Sex\", \"SibSp\", \"Parch\"]\n",
    "X = pd.get_dummies(titanic_data[features])\n",
    "y = titanic_data[\"Survived\"]\n",
    "\n",
    "# Split the data into a training set and a validation set for hyperparameter tuning.\n",
    "X_train, X_val, y_train, y_val = train_test_split(X, y, test_size=0.2, random_state=1)\n",
    "\n",
    "# Define the Random Forest model with default hyperparameters.\n",
    "model = RandomForestClassifier(random_state=1)\n",
    "\n",
    "# Define a grid of hyperparameters to search through.\n",
    "param_grid = {\n",
    "    'n_estimators': [50, 100, 150],\n",
    "    'max_depth': [3, 5, 7, None],\n",
    "    'min_samples_split': [2, 5, 10],\n",
    "    'min_samples_leaf': [1, 2, 4]\n",
    "}\n",
    "\n",
    "# Perform Grid Search to find the best combination of hyperparameters.\n",
    "grid_search = GridSearchCV(model, param_grid, cv=5, scoring='accuracy')\n",
    "grid_search.fit(X_train, y_train)\n",
    "\n",
    "# Get the best hyperparameters from the grid search.\n",
    "best_params = grid_search.best_params_\n",
    "print(\"Best Hyperparameters:\", best_params)\n",
    "\n",
    "# Train a new Random Forest model with the best hyperparameters.\n",
    "best_model = RandomForestClassifier(random_state=1, **best_params)\n",
    "best_model.fit(X_train, y_train)\n",
    "\n",
    "# Make predictions on the validation set.\n",
    "val_predictions = best_model.predict(X_val)\n",
    "\n",
    "# Evaluate the model's performance on the validation set.\n",
    "from sklearn.metrics import accuracy_score\n",
    "accuracy = accuracy_score(y_val, val_predictions)\n",
    "print(\"Validation Set Accuracy:\", accuracy)\n",
    "\n",
    "# Finally, you can use the best model to make predictions on the test data and save the results.\n",
    "test_data = pd.read_csv(\"/kaggle/input/titanic/test.csv\")\n",
    "X_test = pd.get_dummies(test_data[features])\n",
    "test_predictions = best_model.predict(X_test)\n",
    "\n",
    "output = pd.DataFrame({'PassengerId': test_data.PassengerId, 'Survived': test_predictions})\n",
    "output.to_csv('submission.csv', index=False)\n",
    "print(\"Your submission was successfully saved!\")\n"
   ]
  },
  {
   "cell_type": "code",
   "execution_count": 3,
   "id": "e693a2e5",
   "metadata": {
    "execution": {
     "iopub.execute_input": "2023-10-25T10:16:45.359217Z",
     "iopub.status.busy": "2023-10-25T10:16:45.358825Z",
     "iopub.status.idle": "2023-10-25T10:16:45.369538Z",
     "shell.execute_reply": "2023-10-25T10:16:45.368367Z"
    },
    "papermill": {
     "duration": 0.016182,
     "end_time": "2023-10-25T10:16:45.371635",
     "exception": false,
     "start_time": "2023-10-25T10:16:45.355453",
     "status": "completed"
    },
    "tags": []
   },
   "outputs": [
    {
     "name": "stdout",
     "output_type": "stream",
     "text": [
      "   PassengerId  Survived\n",
      "0          892         0\n",
      "1          893         1\n",
      "2          894         0\n",
      "3          895         0\n",
      "4          896         1\n"
     ]
    }
   ],
   "source": [
    "# Read the CSV file into a DataFrame\n",
    "df = pd.read_csv(\"submission.csv\")\n",
    "\n",
    "# Display the first few rows of the DataFrame\n",
    "print(df.head())"
   ]
  },
  {
   "cell_type": "code",
   "execution_count": 4,
   "id": "9566e63c",
   "metadata": {
    "execution": {
     "iopub.execute_input": "2023-10-25T10:16:45.378015Z",
     "iopub.status.busy": "2023-10-25T10:16:45.377587Z",
     "iopub.status.idle": "2023-10-25T10:16:45.382607Z",
     "shell.execute_reply": "2023-10-25T10:16:45.381577Z"
    },
    "papermill": {
     "duration": 0.010784,
     "end_time": "2023-10-25T10:16:45.385121",
     "exception": false,
     "start_time": "2023-10-25T10:16:45.374337",
     "status": "completed"
    },
    "tags": []
   },
   "outputs": [
    {
     "name": "stdout",
     "output_type": "stream",
     "text": [
      "/kaggle/working\n"
     ]
    }
   ],
   "source": [
    "print(os.getcwd())"
   ]
  }
 ],
 "metadata": {
  "kernelspec": {
   "display_name": "Python 3",
   "language": "python",
   "name": "python3"
  },
  "language_info": {
   "codemirror_mode": {
    "name": "ipython",
    "version": 3
   },
   "file_extension": ".py",
   "mimetype": "text/x-python",
   "name": "python",
   "nbconvert_exporter": "python",
   "pygments_lexer": "ipython3",
   "version": "3.10.12"
  },
  "papermill": {
   "default_parameters": {},
   "duration": 100.376549,
   "end_time": "2023-10-25T10:16:46.008552",
   "environment_variables": {},
   "exception": null,
   "input_path": "__notebook__.ipynb",
   "output_path": "__notebook__.ipynb",
   "parameters": {},
   "start_time": "2023-10-25T10:15:05.632003",
   "version": "2.4.0"
  }
 },
 "nbformat": 4,
 "nbformat_minor": 5
}
